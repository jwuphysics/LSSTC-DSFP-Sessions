{
 "cells": [
  {
   "cell_type": "markdown",
   "metadata": {},
   "source": [
    "# Building a Digital Orrery\n",
    "## An exercise in Object Oriented Programming\n",
    "\n",
    "**Version 0.1**\n",
    "\n",
    "It is your goal in this exercise to construct a Digital Orrery. An [orrery](https://en.wikipedia.org/wiki/Orrery) is a mechanical model of the Solar System. Here, we will generalize this to anything that is mechanically similar to *the* solar system: a collection of things bound gravitationally. \n",
    "\n",
    "\n",
    "<img src=\"https://upload.wikimedia.org/wikipedia/commons/4/48/Grand_orrery_in_Putnam_Gallery%2C_2009-11-24.jpg\" alt=\"Orrery\" width=\"600\"/>\n",
    "(image: wikimedia)\n",
    "\n",
    "\n",
    "* * *\n",
    "\n",
    "By J. S. Oishi (Bates College)"
   ]
  },
  {
   "cell_type": "code",
   "execution_count": 2,
   "metadata": {},
   "outputs": [],
   "source": [
    "import numpy as np\n",
    "import matplotlib.pyplot as plt\n",
    "\n",
    "%matplotlib notebook"
   ]
  },
  {
   "cell_type": "markdown",
   "metadata": {},
   "source": [
    "## Problem 1) Building a basic set of objects\n",
    "\n",
    "Our first task is to map our problem onto a set of **objects** that we **instantiate** (that is, make **instances** of) in order to solve our problem.\n",
    "\n",
    "Let's outline the scope of our problem.\n",
    "\n",
    "A solar system exists in a Universe; here we can ignore the gravitational perturbation on the Solar System from the rest of the Universe. Our model will consist of a small number of bodies containing mass. It might also contain bodies without mass, so called \"test particles\".\n",
    "\n",
    "The problem to be solved numerically is the gravitational N-body problem,\n",
    "\n",
    "$$\\ddot{\\mathbf{r}}_i = -G\\sum_{i \\ne j} \\frac{m_j \\mathbf{r}_{ij}}{r_{ij}^3},$$\n",
    "\n",
    "where $\\mathbf{r}_{ij} \\equiv \\mathbf{r_i} - \\mathbf{r_j}$. This task itself can be broken into two components: \n",
    "\n",
    "* the force calculation\n",
    "* the ODE integrator to advance $\\mathbf{r}_i$ and $\\dot{\\mathbf{r}}_i$ forward in time"
   ]
  },
  {
   "cell_type": "markdown",
   "metadata": {},
   "source": [
    "**Problem 1a**\n",
    "\n",
    "In disucssion with a classmate, sketch out a set of classes that you will need to complete this project. Don't worry about things like numerical integrators yet. \n",
    "\n",
    "Also, sketch out interfaces (start with the constructor), but don't worry about writing code right now.\n",
    "\n",
    "*Once you're done, find me and I'll give you the minimal list of objects.*"
   ]
  },
  {
   "cell_type": "code",
   "execution_count": 154,
   "metadata": {},
   "outputs": [],
   "source": [
    "class Body():\n",
    "    def __init__(self, mass, position, velocity):\n",
    "        self.mass = np.array(mass, dtype=np.float64)\n",
    "        self.position = np.array(position, dtype=np.float64)\n",
    "        self.velocity = np.array(velocity, dtype=np.float64)\n",
    "        \n",
    "    def accelerate(self, other, softening_length=1e-2):\n",
    "        \"\"\"Compute vector accleration between `other` and this body\"\"\"\n",
    "        r = self.position - other.position\n",
    "        return -G * other.mass * r / (np.linalg.norm(r+softening_length)**3)\n",
    "    \n",
    "#     def accumulate_acceleration(self, other_bodies):\n",
    "#         \"\"\"Sum all acclerations for `other_bodies` in system.\"\"\"\n",
    "#         return np.sum([self.accelerate(other) for other in other_bodies])\n",
    "\n",
    "class TestMass(Body):\n",
    "    def __init__(self, position, velocity):\n",
    "        super().__init__(0, position, velocity)\n",
    "        \n",
    "class Universe():\n",
    "    def __init__(self, bodies):\n",
    "        if not hasattr(bodies, '__iter__'):\n",
    "            self.bodies = [bodies, TestMass([0.5, -0.5, 0], [0, 0, 0])]\n",
    "        elif len(bodies) == 1:\n",
    "            self.bodies = [bodies[0], TestMass([0.5, -0.5, 0], [0, 0, 0])]\n",
    "        else:\n",
    "            self.bodies = bodies\n",
    "    \n",
    "    def move_all(self, integration_method='leapfrog', softening_length=1e-2):\n",
    "        \"\"\"Updates all positions and velocities\"\"\"\n",
    "\n",
    "        if integration_method != 'leapfrog':\n",
    "            raise NotImplementedError(\"Sorry, I haven't implemented this yet!\")\n",
    "            \n",
    "        for body in self.bodies:\n",
    "            other_bodies = list(filter(lambda b: b != body, self.bodies))\n",
    "                        \n",
    "            # dynamical time step\n",
    "            dt = np.median([np.abs(body.position - other.position) + softening_length for other in other_bodies]) / 4\n",
    "            \n",
    "            # update positions\n",
    "            current_acceleration = np.sum([body.accelerate(other, softening_length) for other in other_bodies])\n",
    "            body.position += dt * body.velocity + 0.5 * dt**2 * current_acceleration\n",
    "            \n",
    "            # update velocities\n",
    "            body.velocity += 0.5 * dt * (current_acceleration + np.sum([body.accelerate(other, softening_length) for other in other_bodies]))\n",
    "    "
   ]
  },
  {
   "cell_type": "markdown",
   "metadata": {},
   "source": [
    "**Problem 1b**\n",
    "\n",
    "Wire them up! Now that you have the list, try them out. Python makes use of duck typing, you should too. That is, if your object has a mass `m`, a position `r` and a velocity `rdot`, it *is* a Body."
   ]
  },
  {
   "cell_type": "code",
   "execution_count": 87,
   "metadata": {},
   "outputs": [],
   "source": [
    "r0 = np.array([0,0,0])\n",
    "rdot0 = np.array([0,0,0])"
   ]
  },
  {
   "cell_type": "code",
   "execution_count": 88,
   "metadata": {},
   "outputs": [],
   "source": [
    "b = Body(1,r0, rdot0)"
   ]
  },
  {
   "cell_type": "markdown",
   "metadata": {},
   "source": [
    "## Problem 2\n",
    "\n",
    "Now, we code the numerical algorithms. We're going to do the most simple things possible: a *brute force* (\"direct N-Body\" if you're feeling fancy) force calculation, and a leapfrog time integrator.\n",
    "\n",
    "The leapfrog scheme is an explicit, second order scheme given by\n",
    "\n",
    "$$r_{i+1} = r_{i} + v_{i} \\Delta t + \\frac{\\Delta t^2}{2} a_{i}$$\n",
    "\n",
    "$$v_{i+1} = v_{i} + \\frac{\\Delta t}{2} (a_{i} + a_{i+1}),$$\n",
    "\n",
    "where $\\Delta t$ is the time step (which we'll just keep constant), and the subscript refers to the *iteration* number $i$. \n",
    "\n",
    "Note that this scheme requires a force update *in between* calculating $r_{i+1}$ and $v_{i+1}$."
   ]
  },
  {
   "cell_type": "markdown",
   "metadata": {},
   "source": [
    "**Problem 2a** \n",
    "\n",
    "Write a method that implements the force integrator. Test it on simple cases:\n",
    " * two equal 1 $M_\\odot$ objects in your universe, 1 AU apart\n",
    " * a $1\\ M_\\odot$ object and a $1\\ M_{\\oplus}$ object, 1 AU apart"
   ]
  },
  {
   "cell_type": "code",
   "execution_count": 102,
   "metadata": {},
   "outputs": [],
   "source": [
    "# define constants\n",
    "G = 1.\n"
   ]
  },
  {
   "cell_type": "code",
   "execution_count": 113,
   "metadata": {},
   "outputs": [],
   "source": [
    "b3 = TestMass([0.5, -0.3, 0], [1., 0, 0])"
   ]
  },
  {
   "cell_type": "markdown",
   "metadata": {
    "collapsed": true
   },
   "source": [
    "**Problem 2b**\n",
    "Write the leapfrog integration as a method in the `Universe` class. Test it on one particle with no force (what should it do?)"
   ]
  },
  {
   "cell_type": "code",
   "execution_count": 171,
   "metadata": {},
   "outputs": [],
   "source": [
    "# mass in unit of M_sun, r in units of AU\n",
    "sun1 = Body(1, [0, 0, 0], [0, 0, 0])\n",
    "sun2 = Body(1, [0, 1, 0], [0, 0, 0])\n",
    "\n",
    "uni1 = Universe([sun1, sun2])"
   ]
  },
  {
   "cell_type": "code",
   "execution_count": 172,
   "metadata": {},
   "outputs": [
    {
     "data": {
      "text/plain": [
       "array([0., 1., 0.])"
      ]
     },
     "execution_count": 172,
     "metadata": {},
     "output_type": "execute_result"
    }
   ],
   "source": [
    "uni1.bodies[1].position"
   ]
  },
  {
   "cell_type": "code",
   "execution_count": 173,
   "metadata": {},
   "outputs": [
    {
     "name": "stdout",
     "output_type": "stream",
     "text": [
      "[-0.00242654 -0.00242654 -0.00242654]\n",
      "[0.10062208 0.10062208 0.10062208]\n",
      "[0.24441657 0.24441657 0.24441657]\n",
      "[0.57277189 0.57277189 0.57277189]\n",
      "[-0.15050256 -0.15050256 -0.15050256]\n",
      "[0.0439288 0.0439288 0.0439288]\n",
      "[0.1389498 0.1389498 0.1389498]\n",
      "[0.20435345 0.20435345 0.20435345]\n",
      "[0.25005594 0.25005594 0.25005594]\n",
      "[0.27249608 0.27249608 0.27249608]\n",
      "[0.25052766 0.25052766 0.25052766]\n",
      "[0.02972277 0.02972277 0.02972277]\n",
      "[0.77888724 0.77888724 0.77888724]\n",
      "[0.55689146 0.55689146 0.55689146]\n",
      "[0.17167968 0.17167968 0.17167968]\n",
      "[0.66404601 0.66404601 0.66404601]\n",
      "[0.99639659 0.99639659 0.99639659]\n",
      "[1.2089218 1.2089218 1.2089218]\n",
      "[1.15113439 1.15113439 1.15113439]\n",
      "[0.85146966 0.85146966 0.85146966]\n"
     ]
    }
   ],
   "source": [
    "for t in np.arange(0,2000):\n",
    "    uni1.move_all()\n",
    "    if t % 100 == 0:\n",
    "        print(uni1.bodies[1].velocity)"
   ]
  },
  {
   "cell_type": "markdown",
   "metadata": {},
   "source": [
    "**Problem 2c** \n",
    " \n",
    "Wire it all up! Try a 3-body calculation of the Earth-Sun-Moon system. Try the Earth-Jupiter-Sun system! "
   ]
  },
  {
   "cell_type": "code",
   "execution_count": 174,
   "metadata": {},
   "outputs": [],
   "source": [
    "earthsunmoon = Universe([Body(1, [0, 0], [0, 0]),\n",
    "                         Body(1e-3, [1, 0], [0.05, -0.05]),\n",
    "                         Body(1e-4, [1.00001, 0], [0.0499998, -0.050002])]\n",
    "                       )\n"
   ]
  },
  {
   "cell_type": "code",
   "execution_count": 175,
   "metadata": {},
   "outputs": [
    {
     "data": {
      "image/png": "[encoded data removed]",
      "text/plain": [
       "<Figure size 432x432 with 1 Axes>"
      ]
     },
     "metadata": {
      "needs_background": "light"
     },
     "output_type": "display_data"
    }
   ],
   "source": [
    "fig = plt.figure(figsize=(6, 6))\n",
    "ax = fig.add_axes([0.1, 0.1, 0.8, 0.8])\n",
    "\n",
    "ax.set_xlim(-2, 2)\n",
    "ax.set_ylim(-2, 2)\n",
    "\n",
    "\n",
    "for t in np.arange(0, 2000):\n",
    "    earthsunmoon.move_all()\n",
    "    \n",
    "    if t % 20 == 0:\n",
    "        [sun, earth, moon] = earthsunmoon.bodies\n",
    "        ax.scatter(*sun.position, s=200, c='yellow')\n",
    "        ax.scatter(*earth.position, s=40, c='k')\n",
    "        ax.scatter(*moon.position, s=10, c='gray')"
   ]
  },
  {
   "cell_type": "markdown",
   "metadata": {},
   "source": [
    "## Challenge Problem\n",
    "\n",
    "* Construct a visualization method for the `Universe` class\n",
    "* Read about the Fast Multipole Method (FMM) [here](https://math.nyu.edu/faculty/greengar/shortcourse_fmm.pdf) and implement one for the force calculation"
   ]
  },
  {
   "cell_type": "code",
   "execution_count": null,
   "metadata": {},
   "outputs": [],
   "source": [
    "# good luck!"
   ]
  }
 ],
 "metadata": {
  "kernelspec": {
   "display_name": "Python 3",
   "language": "python",
   "name": "python3"
  },
  "language_info": {
   "codemirror_mode": {
    "name": "ipython",
    "version": 3
   },
   "file_extension": ".py",
   "mimetype": "text/x-python",
   "name": "python",
   "nbconvert_exporter": "python",
   "pygments_lexer": "ipython3",
   "version": "3.6.8"
  },
  "toc": {
   "base_numbering": 1,
   "nav_menu": {},
   "number_sections": true,
   "sideBar": true,
   "skip_h1_title": false,
   "title_cell": "Table of Contents",
   "title_sidebar": "Contents",
   "toc_cell": false,
   "toc_position": {},
   "toc_section_display": true,
   "toc_window_display": false
  }
 },
 "nbformat": 4,
 "nbformat_minor": 2
}
